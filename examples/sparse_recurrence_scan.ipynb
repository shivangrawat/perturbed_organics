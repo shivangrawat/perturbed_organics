{
 "cells": [
  {
   "cell_type": "markdown",
   "metadata": {},
   "source": [
    "In this repository, we test how good the fixed point caluclation is and is the dynamical system remains stable for this arbitrary recurrent weight matrix."
   ]
  },
  {
   "cell_type": "code",
   "execution_count": 9,
   "metadata": {},
   "outputs": [],
   "source": [
    "import torch\n",
    "import matplotlib.pyplot as plt\n",
    "import torch.nn.functional as F\n",
    "import time\n",
    "import math\n",
    "from perturbed_organics.spectrum_general import matrix_solution\n",
    "from perturbed_organics.spectrum_general import sim_solution\n",
    "import perturbed_organics.model.ORGaNICs_models as organics\n",
    "from perturbed_organics.utils.util_funs import dynm_fun\n",
    "import numpy as np\n",
    "import os\n",
    "from matplotlib import colors\n",
    "from scipy.optimize import fsolve, curve_fit\n",
    "from scipy import integrate\n",
    "import warnings\n",
    "\n",
    "\n",
    "plt.rc('text', usetex=True)\n",
    "plt.rc('font', family='serif')\n",
    "# device = torch.device(\"cuda\" if torch.cuda.is_available() else \"cpu\")\n",
    "device = torch.device(\"cpu\")\n",
    "cmap = 'viridis'"
   ]
  },
  {
   "cell_type": "code",
   "execution_count": 2,
   "metadata": {},
   "outputs": [],
   "source": [
    "\"\"\"Define the parameters of the ORGaNICs\"\"\"\n",
    "N = 10\n",
    "params = {\n",
    "    'N_y': N,\n",
    "    'N_a': N,\n",
    "    'eta': 0.02,\n",
    "    'noise_type': 'additive'\n",
    "}\n",
    "b0 = 0.5 * torch.ones(N)\n",
    "b1 = 0.5 * torch.ones(N)\n",
    "sigma = torch.tensor([0.1])\n",
    "tauA = 0.002 + 0 * torch.abs(torch.randn(N) * 0.001)\n",
    "tauY = 0.002 + 0 * torch.abs(torch.randn(N) * 0.001)\n",
    "# Wyy = torch.eye(N)\n",
    "Way = torch.ones(N, N)"
   ]
  },
  {
   "cell_type": "code",
   "execution_count": 3,
   "metadata": {},
   "outputs": [],
   "source": [
    "def sample_sparse_matrix(N, c, delta, mu):\n",
    "    mask = torch.bernoulli(torch.full((N, N), c / N)).triu()\n",
    "    values = torch.normal(mu, delta, (N, N))\n",
    "    upper_triangular = values * mask\n",
    "    symmetric_matrix = upper_triangular + upper_triangular.T - torch.diag(torch.diag(upper_triangular))\n",
    "    return symmetric_matrix"
   ]
  },
  {
   "cell_type": "code",
   "execution_count": 4,
   "metadata": {},
   "outputs": [],
   "source": [
    "\"\"\"Define the scan parameters\"\"\"\n",
    "num_delta = 5\n",
    "num_gamma = 5\n",
    "delta_range = torch.linspace(0, 0.25, num_delta)\n",
    "gamma_range = torch.linspace(0, 1, num_gamma)\n",
    "\n",
    "mu = 0.0\n",
    "#c = math.sqrt(N) # sparsity\n",
    "c = 0\n",
    "\n",
    "\n",
    "# define the quantities that we'll calculate\n",
    "num_trials = 10\n",
    "eigenvals_wyy = torch.zeros((num_delta, num_gamma, num_trials, N), dtype=torch.complex64)\n",
    "eigenvals_J = torch.zeros((num_delta, num_gamma, num_trials, 2 * N), dtype=torch.complex64)\n",
    "\n",
    "norm_fixed_point_y = torch.zeros((num_delta, num_gamma, num_trials, N))\n",
    "norm_fixed_point_a = torch.zeros((num_delta, num_gamma, num_trials, N))\n",
    "\n",
    "actual_fixed_point_y = torch.zeros((num_delta, num_gamma, num_trials, N))\n",
    "actual_fixed_point_a = torch.zeros((num_delta, num_gamma, num_trials, N))\n",
    "\n",
    "bool_stable = torch.zeros((num_delta, num_gamma, num_trials), dtype=torch.bool)"
   ]
  },
  {
   "cell_type": "code",
   "execution_count": 5,
   "metadata": {},
   "outputs": [],
   "source": [
    "for i, delta in enumerate(delta_range):\n",
    "    for j, gamma in enumerate(gamma_range):\n",
    "        # define the norm of the input drive\n",
    "        z = torch.ones(N)\n",
    "        z = z / torch.norm(z) * gamma\n",
    "\n",
    "        for k in range(num_trials):\n",
    "            try :\n",
    "                # sample a random Wyy matrix\n",
    "                Wyy = torch.eye(N) + sample_sparse_matrix(N, c, delta, mu)\n",
    "                eigenvals_wyy[i, j, k] = torch.linalg.eigvals(Wyy)\n",
    "\n",
    "                # start the simulation from the normalization fixed point\n",
    "                a_s = sigma ** 2 * b0 ** 2 + Way @ (b1 * z) ** 2\n",
    "                y_s = (b1 * z) / torch.sqrt(a_s)\n",
    "                initial_sim = torch.cat((y_s, a_s), dim=0)\n",
    "\n",
    "                # instantiate the model\n",
    "                model = organics.ORGaNICs2Dgeneral(params=params, b0=b0, b1=b1, sigma=sigma, tauA=tauA, tauY=tauY, Wyy=Wyy, Way=Way, z=z, initial_sim=initial_sim, run_jacobian=True)\n",
    "\n",
    "                # normalization fixed point\n",
    "                norm_fixed_point_y[i, j, k], norm_fixed_point_a[i, j, k] = model.analytical_ss()\n",
    "\n",
    "                # actual fixed point\n",
    "                actual_fixed_point_y[i, j, k] = model.ss[0:N] # will catch a None type object is not scriptable error here\n",
    "                actual_fixed_point_a[i, j ,k] = model.ss[N:2*N]\n",
    "\n",
    "                # eigenvalues of the jacobian\n",
    "                eigenvals_J[i, j, k] = torch.linalg.eigvals(model.J)\n",
    "\n",
    "                bool_stable[i, j, k] = True\n",
    "\n",
    "            except Exception as e:\n",
    "                print(e)\n",
    "                bool_stable[i, j, k] = False"
   ]
  },
  {
   "cell_type": "code",
   "execution_count": 6,
   "metadata": {},
   "outputs": [
    {
     "data": {
      "text/plain": [
       "Text(0.5, 1.0, 'Wyy')"
      ]
     },
     "execution_count": 6,
     "metadata": {},
     "output_type": "execute_result"
    },
    {
     "data": {
      "image/png": "[encoded data removed]",
      "text/plain": [
       "<Figure size 432x288 with 2 Axes>"
      ]
     },
     "metadata": {
      "needs_background": "light"
     },
     "output_type": "display_data"
    }
   ],
   "source": [
    "# imshow the matrix Wyy\n",
    "plt.figure()\n",
    "plt.imshow(Wyy, cmap=cmap)\n",
    "plt.colorbar()\n",
    "plt.title('Wyy')\n"
   ]
  },
  {
   "cell_type": "code",
   "execution_count": 7,
   "metadata": {},
   "outputs": [],
   "source": [
    "# import Flaviano's data\n",
    "data_sim = np.loadtxt('../data/balanced_exp_N10_n100.txt')\n",
    "data_a = np.loadtxt('../data/function_contours.txt')\n",
    "data_y = np.loadtxt('../data/y_contours.txt')"
   ]
  },
  {
   "cell_type": "code",
   "execution_count": 8,
   "metadata": {},
   "outputs": [
    {
     "name": "stderr",
     "output_type": "stream",
     "text": [
      "No artists with labels found to put in legend.  Note that artists whose label start with an underscore are ignored when legend() is called with no argument.\n"
     ]
    },
    {
     "data": {
      "image/png": "[encoded data removed]",
      "text/plain": [
       "<Figure size 864x720 with 2 Axes>"
      ]
     },
     "metadata": {
      "needs_background": "light"
     },
     "output_type": "display_data"
    }
   ],
   "source": [
    "# Calculate the percentage of stable circuits\n",
    "percent_stable = bool_stable.float().mean(dim=2) * 100\n",
    "\n",
    "# Plot the heatmap\n",
    "plt.figure(figsize=(12, 10))\n",
    "plt.imshow(percent_stable, extent=[gamma_range.min(), gamma_range.max(), delta_range.min(), delta_range.max()],\n",
    "           origin='lower', aspect='auto', cmap='viridis')\n",
    "colorbar = plt.colorbar(label=\"Percent Stable Circuits\", fraction=0.046, pad=0.04)\n",
    "colorbar.ax.tick_params(labelsize=14)\n",
    "\n",
    "# plotting curve from flaviano\n",
    "# plt.scatter(data_sim[:, 1], data_sim[:, 0], c='black', edgecolor='black', s=50, label=\"Simulation\")\n",
    "# plt.scatter(data_y[:, 0], data_y[:, 1], c='cyan', edgecolor='black', s=50, label=\"y-theory\")\n",
    "# plt.scatter(data_a[:, 0], data_a[:, 1], c='red', edgecolor='black', s=50, label=\"a-theory\")\n",
    "\n",
    "# add legend\n",
    "plt.legend(fontsize=20, loc='lower right')\n",
    "\n",
    "\n",
    "# Set font sizes\n",
    "plt.xlabel(r'Contrast', fontsize=22)\n",
    "plt.ylabel(r'$\\Delta$', fontsize=22)\n",
    "plt.title(\"Phase Diagram: Percent Stable Circuits\", fontsize=20)\n",
    "\n",
    "# Increase tick label size\n",
    "plt.xticks(fontsize=20)\n",
    "plt.yticks(fontsize=20)\n",
    "colorbar.set_label(\"Percent Stable Circuits\", fontsize=20)\n",
    "# save the figure in svg\n",
    "plt.savefig('../figures/percent_stable_circuits.svg')\n",
    "plt.show()"
   ]
  },
  {
   "cell_type": "code",
   "execution_count": 57,
   "metadata": {},
   "outputs": [],
   "source": [
    "# create a folder in ..data/ to save the results\n",
    "folder_name = 'sparse_matrix_scan_N_{}_c_{}_mu_{}_num_delta_{}_num_gamma_{}_num_trials_{}'.format(N, c, mu, num_delta, num_gamma, num_trials)\n",
    "path = os.path.join('..', 'data', folder_name)\n",
    "# make th edirectory\n",
    "if not os.path.exists(path):\n",
    "    os.makedirs(path)\n",
    "# save all the tensors in the folder\n",
    "torch.save(eigenvals_wyy, os.path.join(path, 'eigenvals_wyy.pt'))\n",
    "torch.save(eigenvals_J, os.path.join(path, 'eigenvals_J.pt'))\n",
    "torch.save(norm_fixed_point_y, os.path.join(path, 'norm_fixed_point_y.pt'))\n",
    "torch.save(norm_fixed_point_a, os.path.join(path, 'norm_fixed_point_a.pt'))\n",
    "torch.save(actual_fixed_point_y, os.path.join(path, 'actual_fixed_point_y.pt'))\n",
    "torch.save(actual_fixed_point_a, os.path.join(path, 'actual_fixed_point_a.pt'))\n",
    "torch.save(bool_stable, os.path.join(path, 'bool_stable.pt'))"
   ]
  },
  {
   "cell_type": "code",
   "execution_count": null,
   "metadata": {},
   "outputs": [],
   "source": [
    "# testing pull request"
   ]
  },
  {
   "cell_type": "code",
   "execution_count": null,
   "metadata": {},
   "outputs": [],
   "source": []
  },
  {
   "cell_type": "code",
   "execution_count": null,
   "metadata": {},
   "outputs": [],
   "source": []
  }
 ],
 "metadata": {
  "kernelspec": {
   "display_name": "organics",
   "language": "python",
   "name": "python3"
  },
  "language_info": {
   "codemirror_mode": {
    "name": "ipython",
    "version": 3
   },
   "file_extension": ".py",
   "mimetype": "text/x-python",
   "name": "python",
   "nbconvert_exporter": "python",
   "pygments_lexer": "ipython3",
   "version": "3.10.15"
  }
 },
 "nbformat": 4,
 "nbformat_minor": 2
}
