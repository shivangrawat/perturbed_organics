{
 "cells": [
  {
   "cell_type": "markdown",
   "metadata": {},
   "source": [
    "In this repository, we test how good the fixed point caluclation is and is the dynamical system remains stable for this arbitrary recurrent weight matrix."
   ]
  },
  {
   "cell_type": "code",
   "execution_count": 1,
   "metadata": {},
   "outputs": [],
   "source": [
    "import torch\n",
    "import matplotlib.pyplot as plt\n",
    "import torch.nn.functional as F\n",
    "import time\n",
    "import math\n",
    "from perturbed_organics.spectrum_general import matrix_solution\n",
    "from perturbed_organics.spectrum_general import sim_solution\n",
    "import perturbed_organics.model.ORGaNICs_models as organics\n",
    "from perturbed_organics.utils.util_funs import dynm_fun\n",
    "import numpy as np\n",
    "import os\n",
    "from matplotlib import colors\n",
    "from scipy.optimize import fsolve, curve_fit\n",
    "from scipy import integrate\n",
    "import warnings\n",
    "\n",
    "plt.rc('text', usetex=True)\n",
    "plt.rc('font', family='serif')\n",
    "# device = torch.device(\"cuda\" if torch.cuda.is_available() else \"cpu\")\n",
    "device = torch.device(\"cpu\")\n",
    "cmap = 'viridis'"
   ]
  },
  {
   "cell_type": "code",
   "execution_count": 2,
   "metadata": {},
   "outputs": [],
   "source": [
    "\"\"\"Define the parameters of the ORGaNICs\"\"\"\n",
    "N = 10\n",
    "params = {\n",
    "    'N_y': N,\n",
    "    'N_a': N,\n",
    "    'eta': 0.02,\n",
    "    'noise_type': 'additive'\n",
    "}\n",
    "b0 = 0.5 * torch.ones(N)\n",
    "b1 = 0.5 * torch.ones(N)\n",
    "sigma = 0.1\n",
    "tauA = 0.002 + 0 * torch.abs(torch.randn(N) * 0.001)\n",
    "tauY = 0.002 + 0 * torch.abs(torch.randn(N) * 0.001)\n",
    "# Wyy = torch.eye(N)\n",
    "Way = torch.ones(N, N)"
   ]
  },
  {
   "cell_type": "code",
   "execution_count": 3,
   "metadata": {},
   "outputs": [],
   "source": [
    "def sample_sparse_matrix(N, c, delta, mu):\n",
    "    mask = torch.bernoulli(torch.full((N, N), c / N)).triu()\n",
    "    values = torch.normal(mu, delta, (N, N))\n",
    "    upper_triangular = values * mask\n",
    "    symmetric_matrix = upper_triangular + upper_triangular.T - torch.diag(torch.diag(upper_triangular))\n",
    "    return symmetric_matrix"
   ]
  },
  {
   "cell_type": "code",
   "execution_count": 4,
   "metadata": {},
   "outputs": [
    {
     "name": "stdout",
     "output_type": "stream",
     "text": [
      "Sparsity of the matrix is 1.00\n"
     ]
    }
   ],
   "source": [
    "mu = 0.0\n",
    "c = 1.0 * N # sparsity\n",
    "delta = 0.4\n",
    "\n",
    "Wyy = torch.eye(N) + sample_sparse_matrix(N, c, delta, mu)\n",
    "# count the number of non-zero elements\n",
    "non_zero = torch.sum(Wyy != 0)\n",
    "\n",
    "print(f'Sparsity of the matrix is {non_zero / N**2:.2f}')\n",
    "\n",
    "# make the input drive to be ones \n",
    "gamma = 0.4\n",
    "z = torch.ones(N)\n",
    "# make z to be norm gamma\n",
    "z = z / torch.norm(z) * gamma"
   ]
  },
  {
   "cell_type": "code",
   "execution_count": 5,
   "metadata": {},
   "outputs": [
    {
     "data": {
      "image/png": "[encoded data removed]",
      "text/plain": [
       "<Figure size 432x432 with 2 Axes>"
      ]
     },
     "metadata": {
      "needs_background": "light"
     },
     "output_type": "display_data"
    }
   ],
   "source": [
    "# imshow the matrix\n",
    "fig, ax = plt.subplots(1, 1, figsize=(6, 6))\n",
    "cax = ax.matshow(Wyy, cmap=cmap)\n",
    "fig.colorbar(cax)\n",
    "plt.show()"
   ]
  },
  {
   "cell_type": "code",
   "execution_count": 6,
   "metadata": {},
   "outputs": [],
   "source": [
    "num_trials = 1\n",
    "eigenvals_wyy = torch.zeros((num_trials, N), dtype=torch.complex64)\n",
    "eigenvals_J = torch.zeros((num_trials, 2 * N), dtype=torch.complex64)\n",
    "norm_fixed_point_y = torch.zeros((num_trials, N))\n",
    "norm_fixed_point_a = torch.zeros((num_trials, N))\n",
    "actual_fixed_point_y = torch.zeros((num_trials, N))\n",
    "actual_fixed_point_a = torch.zeros((num_trials, N))\n",
    "bool_stable = torch.zeros(num_trials, dtype=torch.bool)\n"
   ]
  },
  {
   "cell_type": "code",
   "execution_count": 7,
   "metadata": {},
   "outputs": [
    {
     "name": "stdout",
     "output_type": "stream",
     "text": [
      "The simulation did not converge.\n",
      "Error in trial 0\n",
      "'NoneType' object is not subscriptable\n"
     ]
    }
   ],
   "source": [
    "# Find all the quantities of interest\n",
    "for i in range(num_trials):\n",
    "    try :\n",
    "        # sample a random Wyy matrix\n",
    "        Wyy = torch.eye(N) + sample_sparse_matrix(N, c, delta, mu)\n",
    "        eigenvals_wyy[i] = torch.linalg.eigvals(Wyy)\n",
    "\n",
    "        # find the fixed point of the model\n",
    "        model = organics.ORGaNICs2Dgeneral(params=params, b0=b0, b1=b1, sigma=sigma, tauA=tauA, tauY=tauY, Wyy=Wyy, Way=Way, z=z, run_jacobian=True)\n",
    "        actual_fixed_point_y[i] = model.ss[0:N]\n",
    "        actual_fixed_point_a[i] = model.ss[N:2*N]\n",
    "\n",
    "        # normalization fixed point\n",
    "        norm_fixed_point_y[i], norm_fixed_point_a[i] = model.analytical_ss()\n",
    "\n",
    "        # eigenvalues of the jacobian\n",
    "        eigenvals_J[i] = torch.linalg.eigvals(model.J)\n",
    "\n",
    "        bool_stable[i] = True\n",
    "\n",
    "    except Exception as e:\n",
    "        print(f'Error in trial {i}')\n",
    "        print(e)\n",
    "        norm_fixed_point_y[i], norm_fixed_point_a[i] = model.analytical_ss()\n",
    "        bool_stable[i] = False"
   ]
  },
  {
   "cell_type": "code",
   "execution_count": 9,
   "metadata": {},
   "outputs": [],
   "source": [
    "model.J"
   ]
  },
  {
   "cell_type": "code",
   "execution_count": 9,
   "metadata": {},
   "outputs": [
    {
     "data": {
      "image/png": "[encoded data removed]",
      "text/plain": [
       "<Figure size 432x432 with 1 Axes>"
      ]
     },
     "metadata": {
      "needs_background": "light"
     },
     "output_type": "display_data"
    }
   ],
   "source": [
    "# find the error between the analytical and the actual fixed points\n",
    "error_y = torch.norm(actual_fixed_point_y - norm_fixed_point_y, dim=1) / torch.norm(norm_fixed_point_y, dim=1)\n",
    "error_a = torch.norm(actual_fixed_point_a - norm_fixed_point_a, dim=1) / torch.norm(norm_fixed_point_a, dim=1)\n",
    "\n",
    "# plot them \n",
    "fig, ax = plt.subplots(1, 1, figsize=(6, 6))\n",
    "ax.plot(error_y, label='error y')\n",
    "ax.plot(error_a, label='error a')\n",
    "ax.legend()\n",
    "plt.show()\n"
   ]
  },
  {
   "cell_type": "code",
   "execution_count": null,
   "metadata": {},
   "outputs": [],
   "source": []
  },
  {
   "cell_type": "code",
   "execution_count": null,
   "metadata": {},
   "outputs": [],
   "source": []
  },
  {
   "cell_type": "code",
   "execution_count": null,
   "metadata": {},
   "outputs": [],
   "source": []
  },
  {
   "cell_type": "code",
   "execution_count": null,
   "metadata": {},
   "outputs": [],
   "source": []
  }
 ],
 "metadata": {
  "kernelspec": {
   "display_name": "conda-fr-whistler",
   "language": "python",
   "name": "python3"
  },
  "language_info": {
   "codemirror_mode": {
    "name": "ipython",
    "version": 3
   },
   "file_extension": ".py",
   "mimetype": "text/x-python",
   "name": "python",
   "nbconvert_exporter": "python",
   "pygments_lexer": "ipython3",
   "version": "3.11.4"
  }
 },
 "nbformat": 4,
 "nbformat_minor": 2
}
