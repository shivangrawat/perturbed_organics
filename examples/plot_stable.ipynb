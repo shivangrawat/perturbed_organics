{
 "cells": [
  {
   "cell_type": "code",
   "execution_count": 1,
   "metadata": {},
   "outputs": [],
   "source": [
    "import torch\n",
    "import matplotlib.pyplot as plt\n",
    "import numpy as np\n",
    "import os\n",
    "\n",
    "\n",
    "plt.rc('text', usetex=True)\n",
    "# plt.rc('font', family='serif')\n",
    "# device = torch.device(\"cuda\" if torch.cuda.is_available() else \"cpu\")\n",
    "cmap = 'viridis'"
   ]
  },
  {
   "cell_type": "code",
   "execution_count": null,
   "metadata": {},
   "outputs": [],
   "source": [
    "model_name = 'scan'\n",
    "N = 100\n",
    "c = 100\n",
    "mu = 0.0\n",
    "num_delta = 25\n",
    "num_gamma = 25\n",
    "num_trials = 10\n",
    "folder_name = model_name + '_N_{}_c_{}_mu_{}_num_delta_{}_num_gamma_{}_num_trials_{}'.format(N, c, mu, num_delta, num_gamma, num_trials)\n",
    "path = os.path.join('..', 'data', folder_name)"
   ]
  },
  {
   "cell_type": "code",
   "execution_count": null,
   "metadata": {},
   "outputs": [],
   "source": [
    "delta_range = np.linspace(0, 1, num_delta)\n",
    "gamma_range = np.linspace(0.01, 1, num_gamma)"
   ]
  },
  {
   "cell_type": "code",
   "execution_count": null,
   "metadata": {},
   "outputs": [],
   "source": [
    "bool_stable = torch.load(os.path.join(path, 'bool_stable.pt'))\n",
    "\n",
    "# import additional data\n",
    "data_sim = np.loadtxt('../data/balanced_exp_N10_n100.txt')\n",
    "data_a = np.loadtxt('../data/function_contours.txt')\n",
    "data_y = np.loadtxt('../data/y_contours.txt')"
   ]
  },
  {
   "cell_type": "code",
   "execution_count": null,
   "metadata": {},
   "outputs": [],
   "source": [
    "# plot the stability phase diagram\n",
    "# Calculate the percentage of stable circuits\n",
    "percent_stable = bool_stable.float().mean(dim=2) * 100\n",
    "\n",
    "# Plot the heatmap\n",
    "plt.figure(figsize=(12, 10))\n",
    "plt.imshow(percent_stable, extent=[gamma_range.min(), gamma_range.max(), delta_range.min(), delta_range.max()],\n",
    "           origin='lower', aspect='auto', cmap='viridis')\n",
    "colorbar = plt.colorbar(label=\"Percent Stable Circuits\", fraction=0.046, pad=0.04)\n",
    "colorbar.ax.tick_params(labelsize=14)\n",
    "\n",
    "# plotting curve from flaviano\n",
    "# plt.scatter(data_sim[:, 1], data_sim[:, 0], c='black', edgecolor='black', s=50, label=\"Simulation\")\n",
    "# plt.scatter(data_y[:, 0], data_y[:, 1], c='cyan', edgecolor='black', s=50, label=\"y-theory\")\n",
    "# plt.scatter(data_a[:, 0], data_a[:, 1], c='red', edgecolor='black', s=50, label=\"a-theory\")\n",
    "\n",
    "# add legend\n",
    "plt.legend(fontsize=20, loc='lower right')\n",
    "\n",
    "\n",
    "# Set font sizes\n",
    "plt.xlabel(r'Contrast', fontsize=22)\n",
    "plt.ylabel(r'$\\Delta$', fontsize=22)\n",
    "plt.title(\"Phase Diagram: Percent Stable Circuits\", fontsize=20)\n",
    "\n",
    "# Increase tick label size\n",
    "plt.xticks(fontsize=20)\n",
    "plt.yticks(fontsize=20)\n",
    "colorbar.set_label(\"Percent Stable Circuits\", fontsize=20)\n",
    "# save the figure in svg\n",
    "save_fig_path = os.path.join(path, 'percent_stable_circuits.svg')\n",
    "plt.savefig(save_fig_path)\n",
    "plt.show()"
   ]
  },
  {
   "cell_type": "code",
   "execution_count": null,
   "metadata": {},
   "outputs": [],
   "source": []
  }
 ],
 "metadata": {
  "kernelspec": {
   "display_name": "Python 3",
   "language": "python",
   "name": "python3"
  },
  "language_info": {
   "codemirror_mode": {
    "name": "ipython",
    "version": 3
   },
   "file_extension": ".py",
   "mimetype": "text/x-python",
   "name": "python",
   "nbconvert_exporter": "python",
   "pygments_lexer": "ipython3",
   "version": "3.10.12"
  }
 },
 "nbformat": 4,
 "nbformat_minor": 2
}
