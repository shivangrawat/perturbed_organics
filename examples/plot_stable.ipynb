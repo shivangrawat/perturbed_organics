{
 "cells": [
  {
   "cell_type": "code",
   "execution_count": 3,
   "metadata": {},
   "outputs": [],
   "source": [
    "import torch\n",
    "import os\n",
    "import json\n",
    "import numpy as np\n",
    "import matplotlib.pyplot as plt\n",
    "\n",
    "plt.rc('text', usetex=True)\n",
    "# plt.rc('font', family='serif')\n",
    "# device = torch.device(\"cuda\" if torch.cuda.is_available() else \"cpu\")\n",
    "cmap = 'viridis'"
   ]
  },
  {
   "cell_type": "code",
   "execution_count": 4,
   "metadata": {},
   "outputs": [],
   "source": [
    "folder_name = 'localized_N_100_c_3_mu_0.0_num_delta_10_num_input_10_num_trials_10_b0_0.5_b1_0.5'  # Replace with your folder name\n",
    "path = os.path.join('..', 'data', folder_name)"
   ]
  },
  {
   "cell_type": "code",
   "execution_count": 5,
   "metadata": {},
   "outputs": [],
   "source": [
    "# Load parameters from the JSON file\n",
    "param_file_path = os.path.join(path, 'parameters.json')\n",
    "with open(param_file_path, 'r') as f:\n",
    "    params = json.load(f)\n",
    "\n",
    "# Extract parameters\n",
    "num_tasks = params['num_tasks']\n",
    "num_delta = params['num_delta']\n",
    "num_input = params['num_input']\n",
    "num_trials = params['num_trials']\n",
    "delta_range = np.array(params['delta_range'])\n",
    "input_range = np.array(params['input_range'])"
   ]
  },
  {
   "cell_type": "code",
   "execution_count": 16,
   "metadata": {},
   "outputs": [],
   "source": [
    "# Initialize full results arrays\n",
    "bool_stable = torch.full((num_delta, num_input, num_trials), fill_value=-1, dtype=torch.int8)\n",
    "spectral_radius = torch.full((num_delta, num_input, num_trials), fill_value=float('nan'), dtype=torch.float32)\n",
    "\n",
    "# Load and combine partial results\n",
    "for task_id in range(num_tasks):\n",
    "    bool_stable_task = torch.load(os.path.join(path, f'bool_stable_task_{task_id}.pt'))\n",
    "    spectral_radius_task = torch.load(os.path.join(path, f'spectral_radius_task_{task_id}.pt'))\n",
    "    \n",
    "    # Find indices where bool_stable_task != -1\n",
    "    indices = (bool_stable_task != -1).nonzero(as_tuple=True)\n",
    "    bool_stable[indices] = bool_stable_task[indices]\n",
    "    spectral_radius[indices] = spectral_radius_task[indices]\n",
    "\n",
    "# # Proceed with plotting or further analysis\n",
    "bool_stable = bool_stable.bool()\n",
    "percent_stable = bool_stable.float().mean(dim=2) * 100"
   ]
  },
  {
   "cell_type": "code",
   "execution_count": 20,
   "metadata": {},
   "outputs": [],
   "source": [
    "# remove all the files ending with .pt inside the folder\n",
    "for file in os.listdir(path):\n",
    "    if file.endswith('.pt'):\n",
    "        os.remove(os.path.join(path, file))\n",
    "\n",
    "# Save full results\n",
    "torch.save(bool_stable, os.path.join(path, f'bool_stable.pt'))\n",
    "torch.save(spectral_radius, os.path.join(path, f'spectral_radius.pt'))\n",
    "torch.save(percent_stable, os.path.join(path, f'percent_stable.pt'))"
   ]
  },
  {
   "cell_type": "code",
   "execution_count": null,
   "metadata": {},
   "outputs": [],
   "source": [
    "# Plot the heatmap\n",
    "plt.figure(figsize=(12, 10))\n",
    "plt.imshow(percent_stable, extent=[input_range.min(), input_range.max(), delta_range.min(), delta_range.max()],\n",
    "           origin='lower', aspect='auto', cmap='viridis')\n",
    "colorbar = plt.colorbar(label=\"Percent Stable Circuits\", fraction=0.046, pad=0.04)\n",
    "colorbar.ax.tick_params(labelsize=14)\n",
    "\n",
    "# add legend\n",
    "plt.legend(fontsize=20, loc='lower right')\n",
    "\n",
    "# Set font sizes\n",
    "plt.xlabel(r'Contrast', fontsize=22)\n",
    "plt.ylabel(r'$\\Delta$', fontsize=22)\n",
    "plt.title(\"Phase Diagram: Percent Stable Circuits\", fontsize=20)\n",
    "\n",
    "# Increase tick label size\n",
    "plt.xticks(fontsize=20)\n",
    "plt.yticks(fontsize=20)\n",
    "colorbar.set_label(\"Percent Stable Circuits\", fontsize=20)\n",
    "# save the figure in svg\n",
    "save_fig_path = os.path.join(path, 'percent_stable_circuits.svg')\n",
    "plt.savefig(save_fig_path)\n",
    "\n",
    "# spectral radius plotting\n",
    "spectral_radius_mean = spectral_radius.mean(dim=2)\n",
    "plt.figure(figsize=(12, 10))\n",
    "plt.imshow(spectral_radius_mean, extent=[input_range.min(), input_range.max(), delta_range.min(), delta_range.max()],\n",
    "           origin='lower', aspect='auto', cmap=cmap)\n",
    "colorbar = plt.colorbar(label=\"Mean Spectral Radius\", fraction=0.046, pad=0.04)\n",
    "colorbar.ax.tick_params(labelsize=14)\n",
    "\n",
    "# Set the labels and title\n",
    "plt.xlabel('Input norm', fontsize=22)\n",
    "plt.ylabel(r'$\\Delta$', fontsize=22)\n",
    "plt.title(\"Phase Diagram: Mean Spectral Radius\", fontsize=20)\n",
    "\n",
    "# Increase tick label size\n",
    "plt.xticks(fontsize=20)\n",
    "plt.yticks(fontsize=20)\n",
    "colorbar.set_label(\"Mean Spectral Radius\", fontsize=20)\n",
    "\n",
    "# Save the figure as SVG\n",
    "save_fig_path = os.path.join(path, 'mean_spectral_radius.svg')\n",
    "plt.savefig(save_fig_path)"
   ]
  },
  {
   "cell_type": "markdown",
   "metadata": {},
   "source": [
    "Code to plot Flaviano's solution."
   ]
  },
  {
   "cell_type": "code",
   "execution_count": 4,
   "metadata": {},
   "outputs": [],
   "source": [
    "import torch \n",
    "import math\n",
    "import numpy as np\n",
    "import matplotlib.pyplot as plt"
   ]
  },
  {
   "cell_type": "code",
   "execution_count": 5,
   "metadata": {},
   "outputs": [],
   "source": [
    "N = 100\n",
    "b0 = 0.5 * torch.ones(N)\n",
    "b1 = 0.5 * torch.ones(N)\n",
    "sigma = torch.tensor([0.1])"
   ]
  },
  {
   "cell_type": "code",
   "execution_count": 6,
   "metadata": {},
   "outputs": [],
   "source": [
    "z = torch.linspace(0, 1, 100)\n",
    "mus = [0.0, 1.0, 5.0]\n",
    "deltas = torch.zeros(3, 100)"
   ]
  },
  {
   "cell_type": "code",
   "execution_count": 8,
   "metadata": {},
   "outputs": [],
   "source": [
    "# for different mus \n",
    "for i, mu in enumerate(mus):\n",
    "    deltas[i] = torch.sqrt((b1 * torch.sqrt(sigma ** 2 + z ** 2) / (1 - b1 * torch.sqrt(sigma ** 2 + z ** 2))) ** 2 - mu ** 2 * (sigma ** 2 / (sigma ** 2 + z ** 2)) ** 2) "
   ]
  },
  {
   "cell_type": "code",
   "execution_count": 10,
   "metadata": {},
   "outputs": [
    {
     "data": {
      "image/png": "[encoded data removed]",
      "text/plain": [
       "<Figure size 720x432 with 1 Axes>"
      ]
     },
     "metadata": {
      "needs_background": "light"
     },
     "output_type": "display_data"
    }
   ],
   "source": [
    "plt.figure(figsize=(10, 6))\n",
    "for i, mu in enumerate(mus):\n",
    "    plt.plot(z.numpy(), deltas[i].numpy(), label=f'$\\mu = {mu}$')\n",
    "\n",
    "# Customizing the plot\n",
    "plt.title('Delta vs. z for different $\\mu$ values', fontsize=16)\n",
    "plt.xlabel('$z$', fontsize=14)\n",
    "plt.ylabel('$\\delta$', fontsize=14)\n",
    "# plt.grid(True, linestyle='--', alpha=0.7)\n",
    "plt.legend(fontsize=12)\n",
    "plt.tight_layout()\n",
    "\n",
    "plt.show()"
   ]
  },
  {
   "cell_type": "code",
   "execution_count": null,
   "metadata": {},
   "outputs": [],
   "source": []
  }
 ],
 "metadata": {
  "kernelspec": {
   "display_name": "Python 3",
   "language": "python",
   "name": "python3"
  },
  "language_info": {
   "codemirror_mode": {
    "name": "ipython",
    "version": 3
   },
   "file_extension": ".py",
   "mimetype": "text/x-python",
   "name": "python",
   "nbconvert_exporter": "python",
   "pygments_lexer": "ipython3",
   "version": "3.10.12"
  }
 },
 "nbformat": 4,
 "nbformat_minor": 2
}
