{
 "cells": [
  {
   "cell_type": "markdown",
   "metadata": {},
   "source": [
    "We visualize the trajectory of the simulation for fixed inputs with different initial conditions."
   ]
  },
  {
   "cell_type": "code",
   "execution_count": 1,
   "metadata": {},
   "outputs": [],
   "source": [
    "import torch\n",
    "import matplotlib.pyplot as plt\n",
    "import torch.nn.functional as F\n",
    "import time\n",
    "import math\n",
    "from perturbed_organics.spectrum_general import matrix_solution\n",
    "from perturbed_organics.spectrum_general import sim_solution\n",
    "import perturbed_organics.model.ORGaNICs_models as organics\n",
    "import perturbed_organics.utils as utils\n",
    "import scipy.signal as signal\n",
    "import numpy as np\n",
    "from joblib import Parallel, delayed, parallel_backend\n",
    "import argparse\n",
    "import os\n",
    "from matplotlib import colors\n",
    "from scipy.optimize import fsolve, curve_fit\n",
    "from scipy import integrate\n",
    "import warnings\n",
    "import shutil\n",
    "import json"
   ]
  },
  {
   "cell_type": "code",
   "execution_count": 2,
   "metadata": {},
   "outputs": [],
   "source": [
    "N = 100\n",
    "params = {\"N_y\": N, \"N_a\": N, \"eta\": 0.02, \"noise_type\": \"additive\"}\n",
    "\n",
    "b0 = 1.0 * torch.ones(N)\n",
    "b1 = 1.0 * torch.ones(N)\n",
    "\n",
    "sigma = torch.tensor([0.1])\n",
    "tauA = 0.002 + 0 * torch.abs(torch.randn(N) * 0.001)\n",
    "tauY = 0.002 + 0 * torch.abs(torch.randn(N) * 0.001)\n",
    "# Wyy = torch.eye(N)\n",
    "Way = torch.ones(N, N)"
   ]
  },
  {
   "cell_type": "code",
   "execution_count": 26,
   "metadata": {},
   "outputs": [],
   "source": [
    "mu = 0.0\n",
    "delta = 0.1\n",
    "\n",
    "Wyy = torch.eye(N) + utils.generate_matrix(N=N, matrix_type='goe_symmetric', s=N, mu=mu, delta=delta)"
   ]
  },
  {
   "cell_type": "code",
   "execution_count": 27,
   "metadata": {},
   "outputs": [],
   "source": [
    "# define the time vector\n",
    "tau_min = min(torch.min(tauA), torch.min(tauY))\n",
    "tau_max= max(torch.max(tauA), torch.max(tauY))\n",
    "chunk_time = 100 * tau_max  # Simulate in chunks of 50 * tau_max\n",
    "dt = 0.05 * tau_min\n",
    "points = int(chunk_time / dt)  # Number of points per chunk\n",
    "t_chunk = torch.linspace(0, chunk_time, points)"
   ]
  },
  {
   "cell_type": "code",
   "execution_count": 28,
   "metadata": {},
   "outputs": [],
   "source": [
    "def is_diverging(trajectory, max_val=1e10):\n",
    "    \"\"\"\n",
    "    Check if the trajectory is diverging (NaNs or excessively large values).\n",
    "    Args:\n",
    "        trajectory (torch.Tensor): Shape (time_steps, state_dim)\n",
    "        max_val (float): Threshold for detecting divergence\n",
    "    Returns:\n",
    "        bool: True if the trajectory is diverging\n",
    "    \"\"\"\n",
    "    return torch.any(torch.isnan(trajectory)) or torch.any(torch.abs(trajectory) > max_val)\n",
    "\n",
    "def is_fixed_point(trajectory, last_percent=0.5, tol=1e-5):\n",
    "    \"\"\"\n",
    "    Check if the trajectory has converged to a fixed point using the last percentage of the signal.\n",
    "    \n",
    "    Args:\n",
    "        trajectory (torch.Tensor): Shape (time_steps, state_dim)\n",
    "        last_percent (float): Fraction of the trajectory to use (0 < last_percent <= 1)\n",
    "        tol (float): Tolerance for detecting fixed points\n",
    "        \n",
    "    Returns:\n",
    "        bool: True if the trajectory is at a fixed point, False otherwise.\n",
    "    \"\"\"\n",
    "    n_points = len(trajectory)\n",
    "    if n_points == 0 or not (0 < last_percent <= 1):\n",
    "        raise ValueError(\"last_percent must be between 0 and 1 (exclusive 0, inclusive 1) and trajectory cannot be empty.\")\n",
    "    \n",
    "    window = int(n_points * last_percent)\n",
    "    # Ensure we have at least two points to compare\n",
    "    if window < 2:\n",
    "        return False\n",
    "    \n",
    "    last_window = trajectory[-window:]  # Shape (window, state_dim)\n",
    "    diffs = torch.abs(last_window[1:] - last_window[:-1])  # Shape (window-1, state_dim)\n",
    "    max_diff = torch.max(diffs)\n",
    "    \n",
    "    return max_diff < tol\n",
    "\n",
    "def is_oscillatory(signal_data, min_cycles=2, tol_period=0.01, tol_amplitude=1e-4, last_percent=0.5):\n",
    "    \"\"\"\n",
    "    Determine if a 1D time series exhibits stable oscillatory behavior in its final segment.\n",
    "    \n",
    "    This function detects peaks and troughs in the final portion of the signal and assumes \n",
    "    that each cycle is defined by a peak followed by the next trough. It computes the amplitude\n",
    "    of each cycle as the difference between the peak value and the following trough value, then\n",
    "    checks the consistency of the cycle intervals and amplitudes.\n",
    "    \n",
    "    Parameters:\n",
    "        signal_data (np.array): 1D array of signal values.\n",
    "        min_cycles (int): Minimum number of cycles (peak followed by trough pairs) required.\n",
    "        tol_period (float): Maximum allowed relative standard deviation of intervals between cycles.\n",
    "        tol_amplitude (float): Maximum allowed relative standard deviation of cycle amplitudes.\n",
    "        last_percent (float): Fraction (0, 1] of the final signal to consider for analysis.\n",
    "        \n",
    "    Returns:\n",
    "        bool: True if the final segment exhibits stable oscillatory behavior, False otherwise.\n",
    "    \"\"\"\n",
    "    if not (0 < last_percent <= 1):\n",
    "        raise ValueError(\"last_percent must be in the interval (0, 1].\")\n",
    "    \n",
    "    total_points = len(signal_data)\n",
    "    cutoff = int(total_points * (1 - last_percent))\n",
    "    recent_signal = signal_data[cutoff:]\n",
    "    \n",
    "    # Detect peaks and troughs in the recent segment.\n",
    "    peaks, _ = signal.find_peaks(recent_signal)\n",
    "    troughs, _ = signal.find_peaks(-recent_signal)\n",
    "    \n",
    "    if len(peaks) < min_cycles or len(troughs) == 0:\n",
    "        return False\n",
    "\n",
    "    cycle_amplitudes = []\n",
    "    cycle_peaks = []\n",
    "    \n",
    "    # For each peak, find the first trough that comes after it using np.searchsorted.\n",
    "    for peak in peaks:\n",
    "        idx = np.searchsorted(troughs, peak, side='right')\n",
    "        if idx < len(troughs):\n",
    "            amplitude = recent_signal[peak] - recent_signal[troughs[idx]]\n",
    "            cycle_amplitudes.append(amplitude)\n",
    "            cycle_peaks.append(peak)\n",
    "    \n",
    "    if len(cycle_amplitudes) < min_cycles:\n",
    "        return False\n",
    "\n",
    "    # Calculate cycle intervals based on the peak positions.\n",
    "    intervals = np.diff(cycle_peaks)\n",
    "    if intervals.size == 0:\n",
    "        return False\n",
    "\n",
    "    mean_interval = np.mean(intervals)\n",
    "    if mean_interval == 0:\n",
    "        return False\n",
    "    rel_std_interval = np.std(intervals) / mean_interval\n",
    "    if rel_std_interval >= tol_period:\n",
    "        return False\n",
    "\n",
    "    # Check amplitude consistency.\n",
    "\n",
    "    cycle_amplitudes = np.array(cycle_amplitudes)\n",
    "    # return false if cycle amplitudes has less than 2 entrie\n",
    "    if len(cycle_amplitudes) < 2:\n",
    "        return False\n",
    "    \n",
    "    # check diff between all amplitudes and they should be lelow tol_amplitude\n",
    "    if np.any(np.abs(np.diff(cycle_amplitudes) / cycle_amplitudes[-1]) > tol_amplitude):\n",
    "        return False\n",
    "\n",
    "    return True\n",
    "\n",
    "def is_periodic_fft(signal_data, tol=1e-2, min_peak_height=0.8, min_cycles=2):\n",
    "    \"\"\"\n",
    "    Determines if the 1D NumPy array 'signal_data' is periodic using an FFT-based approach.\n",
    "    It computes the autocorrelation via FFT and checks if there is a strong, repeating peak\n",
    "    pattern indicating a constant period and amplitude across cycles.\n",
    "    \n",
    "    Parameters:\n",
    "      signal_data : numpy.ndarray\n",
    "          1D array of numerical values.\n",
    "      tol : float\n",
    "          Tolerance for deviations in the autocorrelation (default 1e-2).\n",
    "      min_peak_height : float\n",
    "          Minimum relative height (compared to 1 at lag 0) required for peaks in the autocorrelation.\n",
    "      min_cycles : int\n",
    "          Minimum number of cycles (repetitions of the candidate period) required.\n",
    "          \n",
    "    Returns:\n",
    "      bool\n",
    "          True if the signal is periodic (with identical cycles), False otherwise.\n",
    "    \"\"\"\n",
    "    n = len(signal_data)\n",
    "    if n < 2:\n",
    "        return True\n",
    "\n",
    "    # Remove mean to eliminate the DC component\n",
    "    signal_data = signal_data - np.mean(signal_data)\n",
    "    \n",
    "    # Next power of 2 for zero-padding (for better FFT performance and resolution)\n",
    "    nfft = 2**int(np.ceil(np.log2(2*n - 1)))\n",
    "    \n",
    "    # Compute FFT and then the autocorrelation using the Wiener–Khinchin theorem\n",
    "    fft_signal = np.fft.fft(signal_data, n=nfft)\n",
    "    ac_full = np.fft.ifft(np.abs(fft_signal)**2).real\n",
    "    ac = ac_full[:n]  # take only nonnegative lags\n",
    "    \n",
    "    # Normalize the autocorrelation so that ac[0] = 1.\n",
    "    if ac[0] == 0:\n",
    "        return False\n",
    "    ac /= ac[0]\n",
    "\n",
    "    # Find peaks in the autocorrelation (ignoring the zero lag)\n",
    "    peaks, properties = signal.find_peaks(ac[1:], height=min_peak_height)\n",
    "    # Adjust indices since we skipped index 0.\n",
    "    peaks = peaks + 1\n",
    "    \n",
    "    if len(peaks) == 0:\n",
    "        return False\n",
    "\n",
    "    # Choose the first peak as the candidate period.\n",
    "    candidate_period = peaks[0]\n",
    "\n",
    "    # Check that there are at least 'min_cycles' complete periods.\n",
    "    if n // candidate_period < min_cycles:\n",
    "        return False\n",
    "\n",
    "    # Now verify that the autocorrelation at multiples of the candidate period remains high.\n",
    "    # We allow for a small deviation given by tol.\n",
    "    num_checks = n // candidate_period\n",
    "    for k in range(1, num_checks):\n",
    "        lag = k * candidate_period\n",
    "        # If the autocorrelation at this lag drops below (min_peak_height - tol), we fail.\n",
    "        if lag < len(ac) and ac[lag] < (min_peak_height - tol):\n",
    "            return False\n",
    "\n",
    "    return True\n",
    "\n",
    "def is_periodic(signal_data, tol_period=1e-2, tolerance=1e-2):\n",
    "    # Find maxima and minima\n",
    "    maxima, _ = signal.find_peaks(signal_data)\n",
    "    minima, _ = signal.find_peaks(-signal_data)\n",
    "    \n",
    "    # Combine and sort all extrema\n",
    "    extrema = np.sort(np.concatenate((maxima, minima)))\n",
    "    \n",
    "    if len(extrema) < 4:  # Need at least two full cycles\n",
    "        return False\n",
    "    \n",
    "    # Calculate periods\n",
    "    periods = np.diff(extrema[::2])  # Every other extremum for full cycles\n",
    "\n",
    "    mean_interval = np.mean(periods)\n",
    "    if mean_interval == 0:\n",
    "        return False\n",
    "    rel_std_interval = np.std(periods) / mean_interval\n",
    "    if rel_std_interval >= tol_period:\n",
    "        return False\n",
    "    \n",
    "    # Check amplitudes\n",
    "    amplitudes = np.abs(signal_data[extrema[1:]] - signal_data[extrema[:-1]])\n",
    "    \n",
    "    # Check if all amplitudes are the same\n",
    "    if not np.allclose(amplitudes, np.mean(amplitudes), rtol=tolerance):\n",
    "        return False\n",
    "    \n",
    "    return True"
   ]
  },
  {
   "cell_type": "code",
   "execution_count": 29,
   "metadata": {},
   "outputs": [],
   "source": [
    "model_name = 'delocalized'\n",
    "# model_name = 'localized'\n",
    "input_norm = 0.01\n",
    "# initial_type = 'norm'\n",
    "# initial_type = 'zero'\n",
    "initial_type = 'first_order'\n",
    "\n",
    "z = utils.make_input_drive(N=N, input_type=model_name, input_norm=input_norm)\n",
    "\n",
    "model = organics.ORGaNICs2Dgeneral(\n",
    "        params=params,\n",
    "        b0=b0,\n",
    "        b1=b1,\n",
    "        sigma=sigma,\n",
    "        tauA=tauA,\n",
    "        tauY=tauY,\n",
    "        Wyy=Wyy,\n",
    "        Way=Way,\n",
    "        z=z,\n",
    "        run_jacobian=False\n",
    "    )"
   ]
  },
  {
   "cell_type": "code",
   "execution_count": 30,
   "metadata": {},
   "outputs": [],
   "source": [
    "y0 = model.inital_conditions(initial_type=initial_type)\n",
    "\n",
    "sim_obj = sim_solution(model)"
   ]
  },
  {
   "cell_type": "code",
   "execution_count": 31,
   "metadata": {},
   "outputs": [
    {
     "name": "stdout",
     "output_type": "stream",
     "text": [
      "Stable fixed point reached.\n"
     ]
    }
   ],
   "source": [
    "max_loops = 20\n",
    "segment_time = 100 * tau_max  # as before\n",
    "condition_met = False\n",
    "total_traj = []\n",
    "\n",
    "for loop in range(max_loops):\n",
    "    traj_segment = sim_obj.simulate(t_chunk, y0=y0)\n",
    "    total_traj.append(traj_segment)\n",
    "    y0 = traj_segment[-1, :]\n",
    "\n",
    "    if utils.is_diverging(traj_segment):\n",
    "        print(\"Trajectory diverges.\")\n",
    "        condition_met = True\n",
    "        break\n",
    "    elif utils.is_fixed_point(traj_segment):\n",
    "        print(\"Stable fixed point reached.\")\n",
    "        condition_met = True\n",
    "        break\n",
    "    elif utils.is_periodic(traj_segment[:, 0].detach().numpy()):\n",
    "        print(\"Oscillatory behavior detected.\")\n",
    "        condition_met = True\n",
    "        break\n",
    "    # elif is_oscillatory(traj_segment[:, 0].detach().numpy()):\n",
    "    #     print(\"Oscillatory behavior detected.\")\n",
    "    #     condition_met = True\n",
    "    #     break\n",
    "\n",
    "# combine all the trajectories\n",
    "total_traj = torch.cat(total_traj, dim=0)\n",
    "\n",
    "t = torch.linspace(0, (loop + 1) * chunk_time, total_traj.shape[0])"
   ]
  },
  {
   "cell_type": "code",
   "execution_count": 32,
   "metadata": {},
   "outputs": [
    {
     "data": {
      "text/plain": [
       "False"
      ]
     },
     "execution_count": 32,
     "metadata": {},
     "output_type": "execute_result"
    }
   ],
   "source": [
    "signal_data = traj_segment[:, 0].detach().numpy()\n",
    "utils.is_periodic(signal_data)"
   ]
  },
  {
   "cell_type": "code",
   "execution_count": 33,
   "metadata": {},
   "outputs": [
    {
     "data": {
      "text/plain": [
       "[<matplotlib.lines.Line2D at 0x132b72e90>]"
      ]
     },
     "execution_count": 33,
     "metadata": {},
     "output_type": "execute_result"
    },
    {
     "data": {
      "image/png": "[encoded data removed]",
      "text/plain": [
       "<Figure size 432x288 with 1 Axes>"
      ]
     },
     "metadata": {
      "needs_background": "light"
     },
     "output_type": "display_data"
    }
   ],
   "source": [
    "plt.plot(t_chunk, signal_data)"
   ]
  },
  {
   "cell_type": "code",
   "execution_count": 34,
   "metadata": {},
   "outputs": [
    {
     "name": "stdout",
     "output_type": "stream",
     "text": [
      "nan\n",
      "[]\n",
      "True\n"
     ]
    },
    {
     "name": "stderr",
     "output_type": "stream",
     "text": [
      "/Users/shivang/anaconda3/envs/conda-fr-whistler/lib/python3.11/site-packages/numpy/core/fromnumeric.py:3504: RuntimeWarning: Mean of empty slice.\n",
      "  return _methods._mean(a, axis=axis, dtype=dtype,\n",
      "/Users/shivang/anaconda3/envs/conda-fr-whistler/lib/python3.11/site-packages/numpy/core/_methods.py:129: RuntimeWarning: invalid value encountered in scalar divide\n",
      "  ret = ret.dtype.type(ret / rcount)\n",
      "/Users/shivang/anaconda3/envs/conda-fr-whistler/lib/python3.11/site-packages/numpy/core/_methods.py:206: RuntimeWarning: Degrees of freedom <= 0 for slice\n",
      "  ret = _var(a, axis=axis, dtype=dtype, out=out, ddof=ddof,\n",
      "/Users/shivang/anaconda3/envs/conda-fr-whistler/lib/python3.11/site-packages/numpy/core/_methods.py:163: RuntimeWarning: invalid value encountered in divide\n",
      "  arrmean = um.true_divide(arrmean, div, out=arrmean,\n",
      "/Users/shivang/anaconda3/envs/conda-fr-whistler/lib/python3.11/site-packages/numpy/core/_methods.py:198: RuntimeWarning: invalid value encountered in scalar divide\n",
      "  ret = ret.dtype.type(ret / rcount)\n",
      "/Users/shivang/anaconda3/envs/conda-fr-whistler/lib/python3.11/site-packages/numpy/core/_methods.py:129: RuntimeWarning: invalid value encountered in divide\n",
      "  ret = ret.dtype.type(ret / rcount)\n"
     ]
    }
   ],
   "source": [
    "maxima, _ = signal.find_peaks(signal_data)\n",
    "minima, _ = signal.find_peaks(-signal_data)\n",
    "\n",
    "# Combine and sort all extrema\n",
    "extrema = np.sort(np.concatenate((maxima, minima)))\n",
    "\n",
    "# Calculate periods\n",
    "periods = np.diff(extrema[::2])  # Every other extremum for full cycles\n",
    "\n",
    "mean_interval = np.mean(periods)\n",
    "rel_std_interval = np.std(periods) / mean_interval\n",
    "print(rel_std_interval)\n",
    "\n",
    "# Check amplitudes\n",
    "amplitudes = np.abs(signal_data[extrema[1:]] - signal_data[extrema[:-1]])\n",
    "print(amplitudes)\n",
    "print(np.allclose(amplitudes, np.mean(amplitudes), rtol=1e-2))"
   ]
  },
  {
   "cell_type": "code",
   "execution_count": 35,
   "metadata": {},
   "outputs": [
    {
     "data": {
      "image/png": "[encoded data removed]",
      "text/plain": [
       "<Figure size 864x360 with 1 Axes>"
      ]
     },
     "metadata": {
      "needs_background": "light"
     },
     "output_type": "display_data"
    }
   ],
   "source": [
    "# Assume idx, t, sim, z_func, model.kwargs are already defined\n",
    "idx = 0\n",
    "\n",
    "# Create a figure with one subplot\n",
    "fig, ax = plt.subplots(figsize=(12, 5))\n",
    "\n",
    "# Plot the simulation data\n",
    "ax.plot(t, total_traj[:, idx].detach().numpy(), label='Simulation', color='blue')\n",
    "ax.set_title('Simulation Data')\n",
    "ax.set_xlabel('Time')\n",
    "ax.set_ylabel('Amplitude')\n",
    "ax.legend()\n",
    "# ax.grid(True)\n",
    "\n",
    "plt.tight_layout()\n",
    "plt.show()"
   ]
  },
  {
   "cell_type": "code",
   "execution_count": 36,
   "metadata": {},
   "outputs": [
    {
     "data": {
      "image/png": "[encoded data removed]",
      "text/plain": [
       "<Figure size 576x432 with 1 Axes>"
      ]
     },
     "metadata": {
      "needs_background": "light"
     },
     "output_type": "display_data"
    }
   ],
   "source": [
    "# Extract the simulation data for neurons 0 and 1\n",
    "sim_neuron0 = total_traj[:, idx].detach().numpy()\n",
    "sim_neuron1 = total_traj[:, idx + 101].detach().numpy()\n",
    "\n",
    "# Create the phase portrait plot\n",
    "plt.figure(figsize=(8, 6))\n",
    "plt.plot(sim_neuron0, sim_neuron1, label='Phase Trajectory', color='purple')\n",
    "plt.xlabel('Neuron 0 Amplitude')\n",
    "plt.ylabel('Neuron 1 Amplitude')\n",
    "plt.title('Phase Portrait of Neurons 0 and 1')\n",
    "plt.legend()\n",
    "# plt.grid(True)\n",
    "plt.show()"
   ]
  },
  {
   "cell_type": "code",
   "execution_count": null,
   "metadata": {},
   "outputs": [],
   "source": []
  },
  {
   "cell_type": "code",
   "execution_count": null,
   "metadata": {},
   "outputs": [],
   "source": []
  },
  {
   "cell_type": "code",
   "execution_count": null,
   "metadata": {},
   "outputs": [],
   "source": []
  },
  {
   "cell_type": "code",
   "execution_count": null,
   "metadata": {},
   "outputs": [],
   "source": []
  }
 ],
 "metadata": {
  "kernelspec": {
   "display_name": "conda-fr-whistler",
   "language": "python",
   "name": "python3"
  },
  "language_info": {
   "codemirror_mode": {
    "name": "ipython",
    "version": 3
   },
   "file_extension": ".py",
   "mimetype": "text/x-python",
   "name": "python",
   "nbconvert_exporter": "python",
   "pygments_lexer": "ipython3",
   "version": "3.11.4"
  }
 },
 "nbformat": 4,
 "nbformat_minor": 2
}
