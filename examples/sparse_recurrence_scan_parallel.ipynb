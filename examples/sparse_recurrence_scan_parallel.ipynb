{
 "cells": [
  {
   "cell_type": "markdown",
   "metadata": {},
   "source": [
    "In this repository, we test how good the fixed point caluclation is and is the dynamical system remains stable for this arbitrary recurrent weight matrix."
   ]
  },
  {
   "cell_type": "code",
   "execution_count": 1,
   "metadata": {},
   "outputs": [],
   "source": [
    "import torch\n",
    "import matplotlib.pyplot as plt\n",
    "import torch.nn.functional as F\n",
    "import time\n",
    "import math\n",
    "from perturbed_organics.spectrum_general import matrix_solution\n",
    "from perturbed_organics.spectrum_general import sim_solution\n",
    "import perturbed_organics.model.ORGaNICs_models as organics\n",
    "from perturbed_organics.utils.util_funs import dynm_fun\n",
    "import numpy as np\n",
    "from joblib import Parallel, delayed, parallel_backend\n",
    "import os\n",
    "from matplotlib import colors\n",
    "from scipy.optimize import fsolve, curve_fit\n",
    "from scipy import integrate\n",
    "import warnings\n",
    "\n",
    "\n",
    "plt.rc('text', usetex=True)\n",
    "plt.rc('font', family='serif')\n",
    "# device = torch.device(\"cuda\" if torch.cuda.is_available() else \"cpu\")\n",
    "device = torch.device(\"cpu\")\n",
    "cmap = 'viridis'"
   ]
  },
  {
   "cell_type": "code",
   "execution_count": 2,
   "metadata": {},
   "outputs": [],
   "source": [
    "\"\"\"Define the parameters of the ORGaNICs\"\"\"\n",
    "N = 10\n",
    "params = {\n",
    "    'N_y': N,\n",
    "    'N_a': N,\n",
    "    'eta': 0.02,\n",
    "    'noise_type': 'additive'\n",
    "}\n",
    "b0 = 0.5 * torch.ones(N)\n",
    "b1 = 0.5 * torch.ones(N)\n",
    "sigma = torch.tensor([0.1])\n",
    "tauA = 0.002 + 0 * torch.abs(torch.randn(N) * 0.001)\n",
    "tauY = 0.002 + 0 * torch.abs(torch.randn(N) * 0.001)\n",
    "# Wyy = torch.eye(N)\n",
    "Way = torch.ones(N, N)"
   ]
  },
  {
   "cell_type": "code",
   "execution_count": 3,
   "metadata": {},
   "outputs": [],
   "source": [
    "def sample_sparse_matrix(N, c, delta, mu):\n",
    "    mask = torch.bernoulli(torch.full((N, N), c / N)).triu()\n",
    "    values = torch.normal(mu / c, delta / math.sqrt(c), (N, N))\n",
    "    upper_triangular = values * mask\n",
    "    symmetric_matrix = upper_triangular + upper_triangular.T - torch.diag(torch.diag(upper_triangular))\n",
    "    return symmetric_matrix"
   ]
  },
  {
   "cell_type": "code",
   "execution_count": 4,
   "metadata": {},
   "outputs": [],
   "source": [
    "\"\"\"Define the scan parameters\"\"\"\n",
    "num_delta = 3\n",
    "num_gamma = 3\n",
    "delta_range = np.linspace(0, 1, num_delta)\n",
    "gamma_range = np.linspace(0.01, 1, num_gamma)\n",
    "\n",
    "mu = 0.0\n",
    "#c = math.sqrt(N) # sparsity\n",
    "c = N\n",
    "\n",
    "# define the quantities that we'll calculate\n",
    "num_trials = 5\n",
    "bool_stable = torch.zeros((num_delta, num_gamma, num_trials), dtype=torch.bool)"
   ]
  },
  {
   "cell_type": "code",
   "execution_count": 5,
   "metadata": {},
   "outputs": [],
   "source": [
    "def run_trial(i, j, k, delta, gamma):\n",
    "    # Initialize variables for the trial\n",
    "    z = torch.ones(N)\n",
    "    z = z / torch.norm(z) * gamma\n",
    "    Wyy = torch.eye(N) + sample_sparse_matrix(N, c, delta, mu)\n",
    "\n",
    "    # Start the simulation from the normalization fixed point\n",
    "    a_s = sigma ** 2 * b0 ** 2 + Way @ (b1 * z) ** 2\n",
    "    y_s = (b1 * z) / torch.sqrt(a_s)\n",
    "    initial_sim = torch.cat((y_s, a_s), dim=0)\n",
    "\n",
    "    # Instantiate the model\n",
    "    model = organics.ORGaNICs2Dgeneral(\n",
    "        params=params, b0=b0, b1=b1, sigma=sigma,\n",
    "        tauA=tauA, tauY=tauY, Wyy=Wyy, Way=Way, z=z,\n",
    "        initial_sim=initial_sim, run_jacobian=True\n",
    "    )\n",
    "    if model.J is None:\n",
    "        return False\n",
    "    else:\n",
    "        return True"
   ]
  },
  {
   "cell_type": "code",
   "execution_count": 6,
   "metadata": {},
   "outputs": [
    {
     "name": "stderr",
     "output_type": "stream",
     "text": [
      "[Parallel(n_jobs=-1)]: Using backend ThreadingBackend with 4 concurrent workers.\n",
      "[Parallel(n_jobs=-1)]: Done   5 tasks      | elapsed:   10.2s\n",
      "[Parallel(n_jobs=-1)]: Done  10 tasks      | elapsed:   17.2s\n",
      "[Parallel(n_jobs=-1)]: Done  17 tasks      | elapsed:   33.7s\n",
      "[Parallel(n_jobs=-1)]: Done  24 tasks      | elapsed:   42.2s\n",
      "[Parallel(n_jobs=-1)]: Done  33 tasks      | elapsed:  1.0min\n",
      "[Parallel(n_jobs=-1)]: Done  43 out of  45 | elapsed:  1.3min remaining:    3.6s\n",
      "[Parallel(n_jobs=-1)]: Done  45 out of  45 | elapsed:  1.3min finished\n"
     ]
    }
   ],
   "source": [
    "with parallel_backend('threading'):\n",
    "    results = Parallel(n_jobs=-1, verbose=10)(\n",
    "        delayed(run_trial)(i, j, k, delta, gamma)\n",
    "        for i, delta in enumerate(delta_range)\n",
    "        for j, gamma in enumerate(gamma_range)\n",
    "        for k in range(num_trials)\n",
    "    )"
   ]
  },
  {
   "cell_type": "code",
   "execution_count": 7,
   "metadata": {},
   "outputs": [],
   "source": [
    "for idx, (i, j, k) in enumerate(\n",
    "    (i, j, k) for i in range(num_delta) for j in range(num_gamma) for k in range(num_trials)\n",
    "):\n",
    "    bool_stable[i, j, k] = results[idx]"
   ]
  },
  {
   "cell_type": "code",
   "execution_count": 11,
   "metadata": {},
   "outputs": [
    {
     "data": {
      "text/plain": [
       "tensor([[[ True,  True,  True,  True,  True],\n",
       "         [ True,  True,  True,  True,  True],\n",
       "         [ True,  True,  True,  True,  True]],\n",
       "\n",
       "        [[False, False, False, False, False],\n",
       "         [ True,  True,  True,  True,  True],\n",
       "         [ True,  True,  True,  True,  True]],\n",
       "\n",
       "        [[False, False, False, False, False],\n",
       "         [False, False, False, False, False],\n",
       "         [ True, False,  True,  True,  True]]])"
      ]
     },
     "execution_count": 11,
     "metadata": {},
     "output_type": "execute_result"
    }
   ],
   "source": [
    "bool_stable"
   ]
  },
  {
   "cell_type": "code",
   "execution_count": 12,
   "metadata": {},
   "outputs": [],
   "source": [
    "# import Flaviano's data\n",
    "data_sim = np.loadtxt('../data/balanced_exp_N10_n100.txt')\n",
    "data_a = np.loadtxt('../data/function_contours.txt')\n",
    "data_y = np.loadtxt('../data/y_contours.txt')"
   ]
  },
  {
   "cell_type": "code",
   "execution_count": 13,
   "metadata": {},
   "outputs": [
    {
     "name": "stderr",
     "output_type": "stream",
     "text": [
      "No artists with labels found to put in legend.  Note that artists whose label start with an underscore are ignored when legend() is called with no argument.\n"
     ]
    },
    {
     "data": {
      "image/png": "[encoded data removed]",
      "text/plain": [
       "<Figure size 864x720 with 2 Axes>"
      ]
     },
     "metadata": {
      "needs_background": "light"
     },
     "output_type": "display_data"
    }
   ],
   "source": [
    "# Calculate the percentage of stable circuits\n",
    "percent_stable = bool_stable.float().mean(dim=2) * 100\n",
    "\n",
    "# Plot the heatmap\n",
    "plt.figure(figsize=(12, 10))\n",
    "plt.imshow(percent_stable, extent=[gamma_range.min(), gamma_range.max(), delta_range.min(), delta_range.max()],\n",
    "           origin='lower', aspect='auto', cmap='viridis')\n",
    "colorbar = plt.colorbar(label=\"Percent Stable Circuits\", fraction=0.046, pad=0.04)\n",
    "colorbar.ax.tick_params(labelsize=14)\n",
    "\n",
    "# plotting curve from flaviano\n",
    "# plt.scatter(data_sim[:, 1], data_sim[:, 0], c='black', edgecolor='black', s=50, label=\"Simulation\")\n",
    "# plt.scatter(data_y[:, 0], data_y[:, 1], c='cyan', edgecolor='black', s=50, label=\"y-theory\")\n",
    "# plt.scatter(data_a[:, 0], data_a[:, 1], c='red', edgecolor='black', s=50, label=\"a-theory\")\n",
    "\n",
    "# add legend\n",
    "plt.legend(fontsize=20, loc='lower right')\n",
    "\n",
    "\n",
    "# Set font sizes\n",
    "plt.xlabel(r'Contrast', fontsize=22)\n",
    "plt.ylabel(r'$\\Delta$', fontsize=22)\n",
    "plt.title(\"Phase Diagram: Percent Stable Circuits\", fontsize=20)\n",
    "\n",
    "# Increase tick label size\n",
    "plt.xticks(fontsize=20)\n",
    "plt.yticks(fontsize=20)\n",
    "colorbar.set_label(\"Percent Stable Circuits\", fontsize=20)\n",
    "# save the figure in svg\n",
    "plt.savefig('../figures/percent_stable_circuits.svg')\n",
    "plt.show()"
   ]
  },
  {
   "cell_type": "code",
   "execution_count": 2,
   "metadata": {},
   "outputs": [
    {
     "ename": "NameError",
     "evalue": "name 'N' is not defined",
     "output_type": "error",
     "traceback": [
      "\u001b[0;31m---------------------------------------------------------------------------\u001b[0m",
      "\u001b[0;31mNameError\u001b[0m                                 Traceback (most recent call last)",
      "Cell \u001b[0;32mIn[2], line 2\u001b[0m\n\u001b[1;32m      1\u001b[0m \u001b[38;5;66;03m# create a folder in ..data/ to save the results\u001b[39;00m\n\u001b[0;32m----> 2\u001b[0m folder_name \u001b[38;5;241m=\u001b[39m \u001b[38;5;124m'\u001b[39m\u001b[38;5;124msparse_matrix_scan_N_\u001b[39m\u001b[38;5;132;01m{}\u001b[39;00m\u001b[38;5;124m_c_\u001b[39m\u001b[38;5;132;01m{}\u001b[39;00m\u001b[38;5;124m_mu_\u001b[39m\u001b[38;5;132;01m{}\u001b[39;00m\u001b[38;5;124m_num_delta_\u001b[39m\u001b[38;5;132;01m{}\u001b[39;00m\u001b[38;5;124m_num_gamma_\u001b[39m\u001b[38;5;132;01m{}\u001b[39;00m\u001b[38;5;124m_num_trials_\u001b[39m\u001b[38;5;132;01m{}\u001b[39;00m\u001b[38;5;124m'\u001b[39m\u001b[38;5;241m.\u001b[39mformat(N, c, mu, num_delta, num_gamma, num_trials)\n\u001b[1;32m      3\u001b[0m path \u001b[38;5;241m=\u001b[39m os\u001b[38;5;241m.\u001b[39mpath\u001b[38;5;241m.\u001b[39mjoin(\u001b[38;5;124m'\u001b[39m\u001b[38;5;124m..\u001b[39m\u001b[38;5;124m'\u001b[39m, \u001b[38;5;124m'\u001b[39m\u001b[38;5;124mdata\u001b[39m\u001b[38;5;124m'\u001b[39m, folder_name)\n\u001b[1;32m      4\u001b[0m \u001b[38;5;66;03m# make th edirectory\u001b[39;00m\n",
      "\u001b[0;31mNameError\u001b[0m: name 'N' is not defined"
     ]
    }
   ],
   "source": [
    "# create a folder in ..data/ to save the results\n",
    "folder_name = 'sparse_matrix_scan_N_{}_c_{}_mu_{}_num_delta_{}_num_gamma_{}_num_trials_{}'.format(N, c, mu, num_delta, num_gamma, num_trials)\n",
    "path = os.path.join('..', 'data', folder_name)\n",
    "# make th edirectory\n",
    "if not os.path.exists(path):\n",
    "    os.makedirs(path)\n",
    "# save all the tensors in the folder\n",
    "torch.save(eigenvals_wyy, os.path.join(path, 'eigenvals_wyy.pt'))\n",
    "torch.save(eigenvals_J, os.path.join(path, 'eigenvals_J.pt'))\n",
    "torch.save(norm_fixed_point_y, os.path.join(path, 'norm_fixed_point_y.pt'))\n",
    "torch.save(norm_fixed_point_a, os.path.join(path, 'norm_fixed_point_a.pt'))\n",
    "torch.save(actual_fixed_point_y, os.path.join(path, 'actual_fixed_point_y.pt'))\n",
    "torch.save(actual_fixed_point_a, os.path.join(path, 'actual_fixed_point_a.pt'))\n",
    "torch.save(bool_stable, os.path.join(path, 'bool_stable.pt'))"
   ]
  },
  {
   "cell_type": "code",
   "execution_count": null,
   "metadata": {},
   "outputs": [],
   "source": [
    "# testing pull request"
   ]
  },
  {
   "cell_type": "code",
   "execution_count": null,
   "metadata": {},
   "outputs": [],
   "source": []
  },
  {
   "cell_type": "code",
   "execution_count": null,
   "metadata": {},
   "outputs": [],
   "source": []
  }
 ],
 "metadata": {
  "kernelspec": {
   "display_name": "conda-fr-whistler",
   "language": "python",
   "name": "python3"
  },
  "language_info": {
   "codemirror_mode": {
    "name": "ipython",
    "version": 3
   },
   "file_extension": ".py",
   "mimetype": "text/x-python",
   "name": "python",
   "nbconvert_exporter": "python",
   "pygments_lexer": "ipython3",
   "version": "3.11.4"
  }
 },
 "nbformat": 4,
 "nbformat_minor": 2
}
