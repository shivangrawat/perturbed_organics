{
 "cells": [
  {
   "cell_type": "markdown",
   "metadata": {},
   "source": [
    "We check the conjecture of systems of the type $I\\ddot{x} + B \\dot{x} + K x = 0$, for the systems which have both B and K Lyapunov diagonally stable by finding counterexamples."
   ]
  },
  {
   "cell_type": "code",
   "execution_count": 1,
   "metadata": {},
   "outputs": [],
   "source": [
    "import numpy as np\n",
    "from scipy.linalg import eig, solve_continuous_lyapunov\n",
    "\n",
    "# Function to generate a random Lyapunov diagonally stable matrix\n",
    "def generate_lyapunov_diagonally_stable_matrix(n):\n",
    "    \"\"\"\n",
    "    We generate Lyapunov diagonally stable matrices based on the convergent theorem.\n",
    "    \"\"\"\n",
    "    t = np.random.rand(n) # inverse of the M matrix\n",
    "    v = np.random.exponential(scale=1, size=n)\n",
    "    u = np.random.exponential(scale=1, size=n)\n",
    "    W = np.random.exponential(scale=1, size=(n, n))\n",
    "    mat = np.diag(1 / t) - W @ np.diag(u / (v + W @ u))\n",
    "    return mat\n",
    "\n",
    "# Function to calculate the block Jacobian matrix\n",
    "def block_jacobian_matrix(B, K):\n",
    "    \"\"\"\n",
    "    Define the block Jacobian matrix for the system I*ddot{x} + B*dot{x} + K*x = 0.\n",
    "    B: Damping matrix\n",
    "    K: Stiffness matrix\n",
    "    \"\"\"\n",
    "    n = B.shape[0]\n",
    "    # Construct the block matrix\n",
    "    zero_block = np.zeros((n, n))\n",
    "    A = np.block([\n",
    "        [zero_block, np.eye(n)],\n",
    "        [- K, - B]\n",
    "    ])\n",
    "    return A"
   ]
  },
  {
   "cell_type": "code",
   "execution_count": 2,
   "metadata": {},
   "outputs": [
    {
     "name": "stdout",
     "output_type": "stream",
     "text": [
      "Trial 78: System is unstable, eigenvalues: [-2.51467163+1.88360964j -2.51467163-1.88360964j  0.30180392+0.30146793j\n",
      "  0.30180392-0.30146793j]\n"
     ]
    }
   ],
   "source": [
    "n = 2\n",
    "num_trials = 1000\n",
    "\n",
    "for trial in range(num_trials):\n",
    "    # Generate Lyapunov diagonally stable matrices B and K\n",
    "    B = generate_lyapunov_diagonally_stable_matrix(n)\n",
    "    K = generate_lyapunov_diagonally_stable_matrix(n)\n",
    "    # K = np.diag(np.random.exponential(scale=1, size=n))\n",
    "    \n",
    "    # Define the block Jacobian matrix\n",
    "    J = block_jacobian_matrix(B, K)\n",
    "    \n",
    "    # Find eigenvalues\n",
    "    eigenvalues = np.linalg.eigvals(J)\n",
    "    \n",
    "    # Check if all real parts are negative\n",
    "    if np.all(np.real(eigenvalues) < 0):\n",
    "        pass\n",
    "    else:\n",
    "        print(f\"Trial {trial + 1}: System is unstable, eigenvalues: {eigenvalues}\")\n",
    "        break"
   ]
  },
  {
   "cell_type": "code",
   "execution_count": 3,
   "metadata": {},
   "outputs": [
    {
     "data": {
      "image/png": "[encoded data removed]",
      "text/plain": [
       "<Figure size 432x288 with 2 Axes>"
      ]
     },
     "metadata": {
      "needs_background": "light"
     },
     "output_type": "display_data"
    }
   ],
   "source": [
    "# imshow the jacobian\n",
    "import matplotlib.pyplot as plt\n",
    "plt.imshow(J)\n",
    "plt.colorbar()\n",
    "plt.show()"
   ]
  },
  {
   "cell_type": "code",
   "execution_count": 4,
   "metadata": {},
   "outputs": [
    {
     "data": {
      "text/plain": [
       "array([3.03941094, 1.38632449])"
      ]
     },
     "execution_count": 4,
     "metadata": {},
     "output_type": "execute_result"
    }
   ],
   "source": [
    "np.linalg.eigvals(B)"
   ]
  },
  {
   "cell_type": "code",
   "execution_count": 5,
   "metadata": {},
   "outputs": [
    {
     "data": {
      "text/plain": [
       "array([1.81381665, 0.99034976])"
      ]
     },
     "execution_count": 5,
     "metadata": {},
     "output_type": "execute_result"
    }
   ],
   "source": [
    "np.linalg.eigvals(K)"
   ]
  },
  {
   "cell_type": "code",
   "execution_count": null,
   "metadata": {},
   "outputs": [],
   "source": []
  }
 ],
 "metadata": {
  "kernelspec": {
   "display_name": "organics",
   "language": "python",
   "name": "python3"
  },
  "language_info": {
   "codemirror_mode": {
    "name": "ipython",
    "version": 3
   },
   "file_extension": ".py",
   "mimetype": "text/x-python",
   "name": "python",
   "nbconvert_exporter": "python",
   "pygments_lexer": "ipython3",
   "version": "3.10.15"
  }
 },
 "nbformat": 4,
 "nbformat_minor": 2
}
