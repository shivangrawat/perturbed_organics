{
 "cells": [
  {
   "cell_type": "markdown",
   "metadata": {},
   "source": [
    "We check the conjecture of systems of the type $I\\ddot{x} + B \\dot{x} + K x = 0$, for the systems which have both B and K Lyapunov diagonally stable by finding counterexamples."
   ]
  },
  {
   "cell_type": "code",
   "execution_count": null,
   "metadata": {},
   "outputs": [],
   "source": [
    "import numpy as np\n",
    "from scipy.linalg import eig, solve_continuous_lyapunov\n",
    "\n",
    "# Function to generate a random Lyapunov diagonally stable matrix\n",
    "def generate_lyapunov_diagonally_stable_matrix(n):\n",
    "    \"\"\"\n",
    "    We generate \n",
    "    \"\"\"\n",
    "    # Start with a positive diagonal matrix\n",
    "    D = np.random.rand(n)\n",
    "    \n",
    "    # create a random positive definite matri\n",
    "\n",
    "# Function to calculate the block Jacobian matrix\n",
    "def block_jacobian_matrix(B, K):\n",
    "    \"\"\"\n",
    "    Define the block Jacobian matrix for the system I*ddot{x} + B*dot{x} + K*x = 0.\n",
    "    B: Damping matrix\n",
    "    K: Stiffness matrix\n",
    "    \"\"\"\n",
    "    n = B.shape[0]\n",
    "    # Construct the block matrix\n",
    "    zero_block = np.zeros((n, n))\n",
    "    A = np.block([\n",
    "        [zero_block, np.eye(n)],\n",
    "        [- K, - B]\n",
    "    ])\n",
    "    return A"
   ]
  },
  {
   "cell_type": "code",
   "execution_count": null,
   "metadata": {},
   "outputs": [],
   "source": [
    "n = 10\n",
    "num_trials = 100\n",
    "\n",
    "for trial in range(num_trials):\n",
    "    # Generate Lyapunov diagonally stable matrices B and K\n",
    "    B = generate_lyapunov_diagonally_stable_matrix(n)\n",
    "    K = generate_lyapunov_diagonally_stable_matrix(n)\n",
    "    \n",
    "    # Define the block Jacobian matrix\n",
    "    J = block_jacobian_matrix(B, K)\n",
    "    \n",
    "    # Find eigenvalues\n",
    "    eigenvalues = np.linalg.eigvals(J)\n",
    "    \n",
    "    # Check if all real parts are negative\n",
    "    if np.all(np.real(eigenvalues) < 0):\n",
    "        pass\n",
    "    else:\n",
    "        print(f\"Trial {trial + 1}: System is unstable, eigenvalues: {eigenvalues}\")"
   ]
  },
  {
   "cell_type": "code",
   "execution_count": null,
   "metadata": {},
   "outputs": [],
   "source": []
  },
  {
   "cell_type": "code",
   "execution_count": null,
   "metadata": {},
   "outputs": [],
   "source": []
  },
  {
   "cell_type": "code",
   "execution_count": null,
   "metadata": {},
   "outputs": [],
   "source": []
  }
 ],
 "metadata": {
  "kernelspec": {
   "display_name": "conda-fr-whistler",
   "language": "python",
   "name": "python3"
  },
  "language_info": {
   "name": "python",
   "version": "3.11.4"
  }
 },
 "nbformat": 4,
 "nbformat_minor": 2
}
